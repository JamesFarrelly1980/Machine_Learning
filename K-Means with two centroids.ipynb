{
 "cells": [
  {
   "cell_type": "markdown",
   "metadata": {},
   "source": [
    "# K-Means Clustering\n",
    "\n",
    "A basic example with explanations of K-Means Clustering using some basic libraries in python.\n",
    "\n"
   ]
  },
  {
   "cell_type": "code",
   "execution_count": 2,
   "metadata": {},
   "outputs": [
    {
     "name": "stdout",
     "output_type": "stream",
     "text": [
      "centroids 1 [0.94445517 0.9278689 ]\n"
     ]
    },
    {
     "data": {
      "image/png": "[encoded data removed]",
      "text/plain": [
       "<Figure size 432x288 with 1 Axes>"
      ]
     },
     "metadata": {},
     "output_type": "display_data"
    },
    {
     "name": "stdout",
     "output_type": "stream",
     "text": [
      "centroids 1 [0.37767381 0.94680737]\n",
      "centroids 2 [1.58058247 1.56897412]\n",
      "centroids 2 [0.22331067 0.28960446]\n",
      "centroids 3 [1.58058247 1.56897412]\n",
      "centroids 3 [0.22331067 0.28960446]\n",
      "centroids 4 [1.58058247 1.56897412]\n",
      "centroids 4 [0.22331067 0.28960446]\n"
     ]
    }
   ],
   "source": [
    "%matplotlib inline\n",
    "import numpy as np\n",
    "import matplotlib.pyplot as plt\n",
    "import matplotlib.animation as animation\n",
    "\n",
    "\n",
    "def load_dataset(name):\n",
    "    return np.loadtxt(name)\n",
    "\n",
    "\n",
    "def euclidian(a, b):\n",
    "    return np.linalg.norm(a-b)\n",
    "\n",
    "\n",
    "def plot(dataset, history_centroids, belongs_to):\n",
    "    colors = ['r', 'g']\n",
    "\n",
    "    fig, ax = plt.subplots()\n",
    "\n",
    "    for index in range(dataset.shape[0]):\n",
    "        instances_close = [i for i in range(len(belongs_to)) if belongs_to[i] == index]\n",
    "        for instance_index in instances_close:\n",
    "            ax.plot(dataset[instance_index][0], dataset[instance_index][1], (colors[index] + 'o'))\n",
    "\n",
    "    history_points = []\n",
    "    for index, centroids in enumerate(history_centroids):\n",
    "        for inner, item in enumerate(centroids):\n",
    "            if index == 0:\n",
    "                history_points.append(ax.plot(item[0], item[1], 'bo')[0])\n",
    "            else:\n",
    "                history_points[inner].set_data(item[0], item[1])\n",
    "                print(\"centroids {} {}\".format(index, item))\n",
    "\n",
    "                plt.pause(0.8)\n",
    "\n",
    "def kmeans(k, epsilon=0, distance='euclidian'):\n",
    "    history_centroids = []\n",
    "    if distance == 'euclidian':\n",
    "        dist_method = euclidian\n",
    "   \n",
    "    dataset = load_dataset(\"C:/Users/Mrs Farrelly/IdeaProjects/KMeans with plot/durudataset.txt\")\n",
    "   # dataset = dataset[:, 0:dataset.shape[1] - 1]\n",
    "    num_instances, num_features = dataset.shape\n",
    "    prototypes = dataset[np.random.randint(0, num_instances - 1, size=k)]\n",
    "    history_centroids.append(prototypes)\n",
    "    prototypes_old = np.zeros(prototypes.shape)\n",
    "    belongs_to = np.zeros((num_instances, 1))\n",
    "    norm = dist_method(prototypes, prototypes_old)\n",
    "    iteration = 0\n",
    "    while norm > epsilon:\n",
    "        iteration += 1\n",
    "        norm = dist_method(prototypes, prototypes_old)\n",
    "        prototypes_old = prototypes\n",
    "        for index_instance, instance in enumerate(dataset):\n",
    "            dist_vec = np.zeros((k, 1))\n",
    "            for index_prototype, prototype in enumerate(prototypes):\n",
    "                dist_vec[index_prototype] = dist_method(prototype,\n",
    "                                                        instance)\n",
    "\n",
    "            belongs_to[index_instance, 0] = np.argmin(dist_vec)\n",
    "\n",
    "        tmp_prototypes = np.zeros((k, num_features))\n",
    "\n",
    "        for index in range(len(prototypes)):\n",
    "            instances_close = [i for i in range(len(belongs_to)) if belongs_to[i] == index]\n",
    "            prototype = np.mean(dataset[instances_close], axis=0)\n",
    "            # prototype = dataset[np.random.randint(0, num_instances, size=1)[0]]\n",
    "            tmp_prototypes[index, :] = prototype\n",
    "\n",
    "        prototypes = tmp_prototypes\n",
    "\n",
    "        history_centroids.append(tmp_prototypes)\n",
    "\n",
    "    # plot(dataset, history_centroids, belongs_to)\n",
    "\n",
    "    return prototypes, history_centroids, belongs_to\n",
    "\n",
    "\n",
    "def execute():\n",
    "    dataset = load_dataset(\"C:/Users/Mrs Farrelly/IdeaProjects/KMeans with plot/durudataset.txt\")\n",
    "    centroids, history_centroids, belongs_to = kmeans(2)\n",
    "    plot(dataset, history_centroids, belongs_to)\n",
    "\n",
    "execute()"
   ]
  },
  {
   "cell_type": "code",
   "execution_count": null,
   "metadata": {},
   "outputs": [],
   "source": []
  },
  {
   "cell_type": "code",
   "execution_count": null,
   "metadata": {},
   "outputs": [],
   "source": []
  }
 ],
 "metadata": {
  "kernelspec": {
   "display_name": "Python 3",
   "language": "python",
   "name": "python3"
  },
  "language_info": {
   "codemirror_mode": {
    "name": "ipython",
    "version": 3
   },
   "file_extension": ".py",
   "mimetype": "text/x-python",
   "name": "python",
   "nbconvert_exporter": "python",
   "pygments_lexer": "ipython3",
   "version": "3.6.5"
  }
 },
 "nbformat": 4,
 "nbformat_minor": 2
}
